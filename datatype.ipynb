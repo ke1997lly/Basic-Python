{
 "cells": [
  {
   "cell_type": "code",
   "execution_count": 1,
   "id": "f1bcd04c",
   "metadata": {},
   "outputs": [
    {
     "name": "stdout",
     "output_type": "stream",
     "text": [
      "<class 'float'>\n",
      "<class 'str'>\n"
     ]
    }
   ],
   "source": [
    "# Text type =  str (string)"
   ]
  },
  {
   "cell_type": "code",
   "execution_count": null,
   "id": "f64bf735",
   "metadata": {},
   "outputs": [],
   "source": [
    "#Numeric Types: int, float\n",
    "#integer(整數）\n",
    "num1 = 5.5\n",
    "a = type(num1)\n",
    "print(a)\n",
    "\n",
    "name = \"weiting\" #quote\n",
    "a = type(name)\n",
    "print(a)"
   ]
  },
  {
   "cell_type": "code",
   "execution_count": 3,
   "id": "2ee5a6ef",
   "metadata": {},
   "outputs": [
    {
     "name": "stdout",
     "output_type": "stream",
     "text": [
      "<class 'int'>\n",
      "35000.0\n"
     ]
    }
   ],
   "source": [
    "#floating-point (浮點數）\n",
    "num1 = 5\n",
    "a = type(num1)\n",
    "print(a)\n",
    "\n",
    "x=35e3#\"e\" to indicate the power of 10\n",
    "print(x)"
   ]
  },
  {
   "cell_type": "code",
   "execution_count": 4,
   "id": "a9caadf2",
   "metadata": {},
   "outputs": [
    {
     "name": "stdout",
     "output_type": "stream",
     "text": [
      "1.0\n",
      "<class 'float'>\n",
      "2\n"
     ]
    }
   ],
   "source": [
    "#use \"type\" check for the type\n",
    "integer = 1\n",
    "float1 = 2.8\n",
    "convert = float(integer)#brackets\n",
    "print(convert)\n",
    "print(type(convert))\n",
    "convert2 = int(float1)\n",
    "print(convert2)"
   ]
  },
  {
   "cell_type": "code",
   "execution_count": null,
   "id": "f3b46a5d",
   "metadata": {},
   "outputs": [],
   "source": [
    "x = 10\n",
    "y = 20\n",
    "z = 30\n",
    "average1 = x + y + z/3\n",
    "average2 = (x + y + z)/3\n",
    "print(average1)\n",
    "print(average2)"
   ]
  },
  {
   "cell_type": "code",
   "execution_count": null,
   "id": "3f736238",
   "metadata": {},
   "outputs": [],
   "source": [
    "print(abs(-4.3))  #absolute value\n",
    "print(round(3.336, 2))\n",
    "print(pow(3,2))#power ＃coefficent"
   ]
  },
  {
   "cell_type": "code",
   "execution_count": null,
   "id": "17bd3be8",
   "metadata": {},
   "outputs": [],
   "source": [
    "import math #math=library\n",
    "print(math.pi)\n",
    "print(\"Factorial of 3 is\", math.factorial(3)) #Factorial階乘\n",
    "\n",
    "integer = 1\n",
    "print(\"the value of integere is:\", integer)\n",
    "# randomization of the patients/participants"
   ]
  },
  {
   "cell_type": "code",
   "execution_count": null,
   "id": "da3184d9",
   "metadata": {},
   "outputs": [],
   "source": [
    "import random\n",
    "print(random.randrange(1,7))\n",
    "print(random.random())\n",
    "import math\n",
    "print(dir(math))#directly listing"
   ]
  },
  {
   "cell_type": "code",
   "execution_count": null,
   "id": "abb26df0",
   "metadata": {},
   "outputs": [],
   "source": [
    "print(round(math.pi, 10))"
   ]
  },
  {
   "cell_type": "code",
   "execution_count": null,
   "id": "d2381939",
   "metadata": {},
   "outputs": [],
   "source": [
    "import random\n",
    "print(random.randrange(1,7))\n"
   ]
  },
  {
   "cell_type": "code",
   "execution_count": null,
   "id": "9717aabf",
   "metadata": {},
   "outputs": [],
   "source": [
    "#define a variable\n",
    "numb1 = int(input(\"Please add a number one\"))\n",
    "numb2 = int(input(\"Please add a number two\"))\n",
    "numb3 = int(input(\"Please add a number three\"))\n",
    "\n",
    "add = numb1 +numb2 + numb3\n",
    "multi = numb1 * numb2 * numb3\n",
    "print(\"Hey!!! The addition of your three number is:\", add, \"and the multiplication of your three number is:\", multi)\n",
    "\n",
    "numb1 = 100\n",
    "numb2 = 200\n",
    "numb3 = 300\n"
   ]
  },
  {
   "cell_type": "code",
   "execution_count": null,
   "id": "7d951311",
   "metadata": {},
   "outputs": [],
   "source": [
    "numb1= int(input(\"please set a length: \"))\n",
    "numb2= int(input(\"please set a breadth: \"))\n",
    "\n",
    "perimeter =(numb1+numb2)*2\n",
    "area = numb1*numb2\n",
    "print(\"The perimeter is:\", perimeter,\"cm.\")\n",
    "print(\"The area is:\",area,\"cm2.\")\n",
    "\n",
    "leng = int(input(\"Enter length \"))\n",
    "width = int(input(\"Enter width\"))\n",
    "area = leng*width\n",
    "print(\"The area of entered lengh and width is \", area)\n"
   ]
  },
  {
   "cell_type": "code",
   "execution_count": null,
   "id": "dc8e570f",
   "metadata": {},
   "outputs": [],
   "source": [
    "patient = input(\"Please enter your name\")\n",
    "age = input(\"How old are you?\")\n",
    "print(patient,\"is\",age,\"years old.\")\n"
   ]
  },
  {
   "cell_type": "code",
   "execution_count": 5,
   "id": "d26b6e52",
   "metadata": {},
   "outputs": [
    {
     "name": "stdout",
     "output_type": "stream",
     "text": [
      "x= 24\n",
      "y= 4\n",
      "331776\n",
      "331776\n"
     ]
    }
   ],
   "source": [
    "import random\n",
    "x= random.randrange(1,51)#x, between 1 and 50,\n",
    "y= random.randrange(2,6)#a random number y between 2 and 5\n",
    "\n",
    "# x^Y x power of y\n",
    "print(\"x=\",x)\n",
    "print(\"y=\",y)\n",
    "print(x**y)\n",
    "print(pow(x,y))"
   ]
  },
  {
   "cell_type": "code",
   "execution_count": null,
   "id": "12d7a0db",
   "metadata": {},
   "outputs": [],
   "source": [
    "#import random\n",
    "#random.randrange\n",
    "#random.choice"
   ]
  },
  {
   "cell_type": "code",
   "execution_count": 7,
   "id": "3c40af9f",
   "metadata": {},
   "outputs": [
    {
     "name": "stdout",
     "output_type": "stream",
     "text": [
      "120 110\n",
      "[110, 130, 140, 150, 160, 170, 120]\n"
     ]
    }
   ],
   "source": [
    "systolic =[120,130,140,150,160,170,110]\n",
    "a = systolic[0]\n",
    "b = systolic[6]\n",
    "print(a,b)\n",
    "systolic[0] = b\n",
    "systolic[6] = a\n",
    "print(systolic)"
   ]
  },
  {
   "cell_type": "code",
   "execution_count": 9,
   "id": "b26cd782",
   "metadata": {},
   "outputs": [
    {
     "name": "stdout",
     "output_type": "stream",
     "text": [
      "index1\n",
      "1\n",
      "2\n"
     ]
    }
   ],
   "source": [
    "#first names, last names, systolic blood pressure, and diastolic blood pressure\n",
    "index1 = systolic.index(120)\n",
    "print(\"index1\")\n",
    "index2 = systolic.index(130)\n",
    "print(index2)\n",
    "index3 = systolic.index(140)\n",
    "print(index3)"
   ]
  },
  {
   "cell_type": "code",
   "execution_count": 20,
   "id": "69600b80",
   "metadata": {},
   "outputs": [
    {
     "name": "stdout",
     "output_type": "stream",
     "text": [
      "0 index =  110 6 index =  120\n"
     ]
    }
   ],
   "source": [
    "print(\"0 index = \", systolic[0],\"6 index = \",systolic[6])"
   ]
  },
  {
   "cell_type": "code",
   "execution_count": null,
   "id": "07445f2d",
   "metadata": {},
   "outputs": [],
   "source": [
    "#Sequence Types(Collection data) types =list, tuple"
   ]
  },
  {
   "cell_type": "code",
   "execution_count": null,
   "id": "3169a932",
   "metadata": {},
   "outputs": [],
   "source": [
    "A=[\"a\",\"b\",\"c\",\"d\"]\n",
    "B=[\"aa\",\"bb\",\"cc\",\"dd\"]\n",
    "C=[\"aaa\",\"bbb\",\"ccc\",\"ddd\"]\n",
    "print(\"Frist name list:\",A[0],B[0],C[0])"
   ]
  },
  {
   "cell_type": "code",
   "execution_count": null,
   "id": "040b477b",
   "metadata": {},
   "outputs": [],
   "source": [
    "t=input(\"enter the pa you want to check:\")\n",
    "tt=t\n",
    "for i in range(4):\n",
    "    print(\"Frist name list:\",t[x])"
   ]
  },
  {
   "cell_type": "code",
   "execution_count": 23,
   "id": "98e6cdaf",
   "metadata": {},
   "outputs": [
    {
     "name": "stdout",
     "output_type": "stream",
     "text": [
      "\n",
      "Dictionary with the use of Integer Keys: \n",
      "{1: 'Geeks', 2: 'For', 3: 'Geeks'}\n"
     ]
    }
   ],
   "source": [
    "# Creating a Dictionary\n",
    "# with Integer Keys\n",
    "Dict = {1: 'Geeks', 2: 'For', 3: 'Geeks'}\n",
    "print(\"\\nDictionary with the use of Integer Keys: \")\n",
    "print(Dict)\n",
    "# get vs [] for retrieving elements\n",
    "my_dict = {}"
   ]
  },
  {
   "cell_type": "code",
   "execution_count": 32,
   "id": "e06a8e90",
   "metadata": {},
   "outputs": [
    {
     "name": "stdout",
     "output_type": "stream",
     "text": [
      "Jack\n",
      "26\n",
      "None\n"
     ]
    }
   ],
   "source": [
    "# Output: Jack\n",
    "\n",
    "my_dict = {\"name\": 'Jack', \"age\": 26 }  #{\"name\": 'Jack', \"age\": 26,\"address\": '2105 N')\n",
    "print(my_dict[\"name\"])\n",
    "\n",
    "# Output: 26\n",
    "print(my_dict.get(\"age\"))\n",
    "\n",
    "# Trying to access keys which doesn't exist throws error\n",
    "# Output None\n",
    "print(my_dict.get('address'))\n",
    "\n",
    "# KeyError\n",
    "#print(my_dict['address'])"
   ]
  }
 ],
 "metadata": {
  "kernelspec": {
   "display_name": "Python 3 (ipykernel)",
   "language": "python",
   "name": "python3"
  },
  "language_info": {
   "codemirror_mode": {
    "name": "ipython",
    "version": 3
   },
   "file_extension": ".py",
   "mimetype": "text/x-python",
   "name": "python",
   "nbconvert_exporter": "python",
   "pygments_lexer": "ipython3",
   "version": "3.9.12"
  }
 },
 "nbformat": 4,
 "nbformat_minor": 5
}
