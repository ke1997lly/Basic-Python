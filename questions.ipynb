{
 "cells": [
  {
   "cell_type": "code",
   "execution_count": null,
   "id": "1cabd93b",
   "metadata": {},
   "outputs": [],
   "source": [
    "\"\"\"\n",
    "Write a program that generates a random number, x, between 1 and 50, a random number y between 2 and 5, and computes x^y.\n",
    "\"\"\"\n",
    "import random\n",
    "x = random.randrange(1,50)\n",
    "y = random.randrange(2,5)\n",
    "print(x)\n",
    "print(y)\n",
    "print(x**y)"
   ]
  },
  {
   "cell_type": "code",
   "execution_count": null,
   "id": "7cda1e7f",
   "metadata": {},
   "outputs": [],
   "source": [
    "\"\"\"\n",
    "Write a program that generates a random number between 1 and 10 and prints your name that many times\n",
    "\"\"\"\n",
    "import random\n",
    "a =random.randrange(1,10)\n",
    "print(a)\n",
    "for i in range (a) :\n",
    "    print(\"Weiting\")"
   ]
  },
  {
   "cell_type": "code",
   "execution_count": null,
   "id": "024b3c39",
   "metadata": {},
   "outputs": [],
   "source": [
    "import random\n",
    "a =random.randrange(1,10)\n",
    "print(a)\n",
    "print(\"Weiting\"*a)\n"
   ]
  },
  {
   "cell_type": "code",
   "execution_count": null,
   "id": "e34ad1d2",
   "metadata": {},
   "outputs": [],
   "source": [
    "\"\"\"\n",
    "Write a program that asks the user for an hour between 1 and 12 and for how many hours in the future they want to go. Print out what the hour will be that many hours into the future. An example is shown below.\n",
    "\"\"\"\n",
    "hours_go = int(input(\"When to leave?\"))\n",
    "am_pm = int(input(\"enter 1 as am, 2 as pm, What is the am_pm now?\"))\n",
    "hours_taking = int(input(\"How many hours you take?\"))\n",
    "\n",
    "\n",
    "if am_pm == 1:\n",
    "    hours_arrive = hours_go + hours_taking\n",
    "    \n",
    "    if hours_arrive == 12:\n",
    "        print(\"The time is 12 pm.\")\n",
    "    elif hours_arrive > 12:\n",
    "        print(\"The time is\",hours_arrive - 12, \"pm.\")\n",
    "    elif hours_arrive <12:\n",
    "        print(\"The time is\",hours_arrive,\"am.\")\n",
    "\n",
    "elif am_pm == 2:\n",
    "    hours_arrive = hours_go + hours_taking\n",
    "    \n",
    "    if hours_arrive == 12:\n",
    "        print(\"The time is 12 am.\")\n",
    "    elif hours_arrive > 12:\n",
    "        print(\"The time is\",hours_arrive - 12, \"am.\")\n",
    "    elif hours_arrive <12:\n",
    "        print(\"The time is\",hours_arrive,\"pm.\")\n",
    "else:\n",
    "    print(\"only enter 1 or 2 as am_pm.\")\n",
    "\n",
    "\n",
    "\n"
   ]
  },
  {
   "cell_type": "code",
   "execution_count": null,
   "id": "ae073444",
   "metadata": {},
   "outputs": [],
   "source": [
    "\"\"\"\n",
    "Write a program that asks the user for an hour between 1 and 12 and for how many hours in the future they want to go. Print out what the hour will be that many hours into the future. An example is shown below.\n",
    "\"\"\"\n",
    "import random\n",
    "hours_go = random.randrange(1,12)\n",
    "am_pm = random.randrange(1,3)\n",
    "hours_taking = random.randrange(24)\n",
    "\n",
    "\n",
    "if am_pm == 1:\n",
    "    print(\"I will departure from\",hours_go,\"am.\",\"And will travel for\",hours_taking,\"hours.\")\n",
    "    hours_arrive = hours_go + hours_taking\n",
    "    \n",
    "    if hours_arrive == 12:\n",
    "        print(\"The time is 12 pm.\")\n",
    "    elif hours_arrive > 12:\n",
    "        print(\"The time is\",hours_arrive - 12, \"pm.\")\n",
    "    elif hours_arrive <12:\n",
    "        print(\"The time is\",hours_arrive,\"am.\")\n",
    "\n",
    "elif am_pm == 2:\n",
    "    print(\"I will departure from\",hours_go,\"am.\",\"And will travel for\",hours_taking,\"hours.\")\n",
    "    hours_arrive = hours_go + hours_taking\n",
    "    \n",
    "    if hours_arrive == 12:\n",
    "        print(\"The time is 12 am.\")\n",
    "    elif hours_arrive > 12:\n",
    "        print(\"The time is\",hours_arrive - 12, \"am.\")\n",
    "    elif hours_arrive <12:\n",
    "        print(\"The time is\",hours_arrive,\"pm.\")\n",
    "else:\n",
    "    print(\"only enter 1 or 2 as am_pm.\")\n",
    "\n"
   ]
  },
  {
   "cell_type": "code",
   "execution_count": null,
   "id": "8e5a48ab",
   "metadata": {},
   "outputs": [],
   "source": [
    "\"\"\"\n",
    "There are seven patients who came to the emergency ward. These patients systolic blood pressure are 120, 130, 140, 150, 160, 170, and 110 (mm). Swap 120 mm bp for 110 mm.\n",
    "\"\"\"\n",
    "systolic = [120, 130, 140, 150, 160, 170, 110]\n",
    "print(systolic)\n",
    "print(systolic[1])\n",
    "print(systolic[2])\n",
    "#1\n",
    "index = systolic.index(120)\n",
    "print(index)\n",
    "#2\n",
    "print(systolic.index(120))\n",
    "\n",
    "systolic[0]=110\n",
    "systolic[-1]=120\n",
    "\n",
    "print(systolic)"
   ]
  },
  {
   "cell_type": "code",
   "execution_count": null,
   "id": "715ffd93",
   "metadata": {},
   "outputs": [],
   "source": [
    "\"\"\"\n",
    "There are seven patients who came to the emergency ward. \n",
    "These patients systolic blood pressure are 120, 130, 140, 150, 160, 170, and 110 mm. \n",
    "The diastolic blood pressure of these patients are 72, 78, 68, 80, 90, 70, 62. \n",
    "Save this information in two lists\n",
    "Merge this information together\n",
    "\"\"\"\n",
    "systolic = [120, 130, 140, 150, 160, 170, 110 ]\n",
    "diastolic = [72, 78, 68, 80, 90, 70, 62]\n",
    "print(systolic + diastolic)\n",
    "systolic.append(diastolic)\n",
    "print(systolic)"
   ]
  },
  {
   "cell_type": "code",
   "execution_count": null,
   "id": "a65374b8",
   "metadata": {},
   "outputs": [],
   "source": [
    "\"\"\"\n",
    "Create a list with patients’ following blood pressure information\n",
    "Patients’ names are Jay, Roy, Mary, Kimberly, David, Michael, Audrey, Rajay, Kajal, and Megan.\n",
    "Their heartbeat information is 72, 82, 55, 90, 90, 89, 89, 87, 82, 72\n",
    "Their weight information is 120, 120, 130, 135, 140, 145, 132, 130, 120, 120\n",
    "1. Create lists to store this information\n",
    "2. Remove the duplicated values\n",
    "3. Add new elements\n",
    "4. Remove last value from the list\n",
    "\"\"\"\n",
    "Patients_name = [\"Jay\", \"Roy\", \"Mary\", \"Kimberly\", \"David\", \"Michael\", \"Audrey\", \"Rajay\", \"Kajal\", \"Megan\"]\n",
    "heartbeat = [72, 82, 55, 90, 90, 89, 89, 87, 82, 72]\n",
    "weight =[120, 120, 130, 135, 140, 145, 132, 130, 120, 120]\n",
    "\n",
    "print(set(heartbeat),set(weight))\n",
    "print(heartbeat.pop())\n",
    "print(heartbeat)"
   ]
  },
  {
   "cell_type": "code",
   "execution_count": null,
   "id": "06c607ab",
   "metadata": {},
   "outputs": [],
   "source": [
    "# create a list of prime numbers\n",
    "prime_numbers = [2, 3, 5, 7]\n",
    "\n",
    "# remove the element at index 2\n",
    "removed_element = prime_numbers.pop(2)\n",
    "\n",
    "print('Removed Element:', removed_element)\n",
    "print('Updated List:', prime_numbers)\n",
    "\n",
    "# Output: \n",
    "# Removed Element: 5\n",
    "# Updated List: [2, 3, 7]\n"
   ]
  },
  {
   "cell_type": "code",
   "execution_count": null,
   "id": "bb080360",
   "metadata": {},
   "outputs": [],
   "source": [
    "'''\n",
    "Write a program that generates a random number between 1 and 10 and prints your name that many times.\n",
    "'''\n",
    "import random\n",
    "a = random.randrange(1,11)\n",
    "print('Weiting'*a)"
   ]
  },
  {
   "cell_type": "code",
   "execution_count": null,
   "id": "5ec13a8b",
   "metadata": {},
   "outputs": [],
   "source": [
    "\"\"\"\n",
    "Develop a tool to identify patients with Tachycardia\n",
    "User input\n",
    "Normal range below 100 pulse rates\n",
    "\"\"\"\n",
    "\n",
    "pulse = int(input('enter your pulse'))\n",
    "\n",
    "if pulse < 100: \n",
    "    print('nomal')\n",
    "else:\n",
    "    print('alert')"
   ]
  },
  {
   "cell_type": "code",
   "execution_count": null,
   "id": "342d0e6d",
   "metadata": {},
   "outputs": [],
   "source": [
    "\"\"\"\n",
    "Write a program that asks the user to enter a length in centimeters. \n",
    "If the user enters a negative length, the program should tell the user that the entry is invalid. \n",
    "Otherwise, the program should convert the length to inches and print out the result. \n",
    "There are 2.54 centimeters in an inch.\n",
    "\"\"\"\n",
    "length = int(input(\"enter the length in centimeters.\"))\n",
    "\n",
    "if length > 0:\n",
    "    print(\"there are\",length/2.54,\"inchs.\")\n",
    "else:\n",
    "    print(\"negative or zero is not available.\")"
   ]
  },
  {
   "cell_type": "code",
   "execution_count": null,
   "id": "b7bbfa52",
   "metadata": {},
   "outputs": [],
   "source": [
    "\"\"\"\n",
    "Generate a random number between 1 and 10. \n",
    "Ask the user to guess the number and print a message based on whether they get it right or not.\n",
    "\"\"\"\n",
    "import random\n",
    "num = random.randrange(1,11)\n",
    "guess = input(\"guess the number.\")\n",
    "\n",
    "if num == guess:\n",
    "    print(\"The number is\",num,\"you got it\")\n",
    "\n",
    "else:\n",
    "    print(\"The number is\",num,\"you are wrong.\")"
   ]
  },
  {
   "cell_type": "code",
   "execution_count": null,
   "id": "12e1a7a4",
   "metadata": {},
   "outputs": [],
   "source": [
    "\"\"\"\n",
    "Write a program that asks the user how many credits they have taken. If they have taken 23 or less, \n",
    "print that the student is a 'Freshman'. If the credits are between 24 and 53, print 'Sophomore'. \n",
    "The range for 'Juniors' is 54 to 83, and for 'Seniors' it is 84 and over.\n",
    "\"\"\"\n",
    "\n",
    "credits = int(input(\"how many credits you have taken?\"))\n",
    "if credits <= 23:\n",
    "    print(\"Freshman\")\n",
    "elif 24 <= credits <= 53 :\n",
    "    print(\"sophomore\")\n",
    "elif 54<= credits <= 83:\n",
    "    print(\"juniors\")\n",
    "else:\n",
    "    print(\"seniors\")"
   ]
  },
  {
   "cell_type": "code",
   "execution_count": null,
   "id": "dab58477",
   "metadata": {},
   "outputs": [],
   "source": [
    "\"\"\"\n",
    "We all know Sheldon and his obsession the 'spot'. \n",
    "Knowing what people feel/think about him, he is determined to remedy the situation, \n",
    "but hey he is a man of science and wants to give a fair chance to everybody to be able to sit at his 'spot’. \n",
    "\n",
    "\"\"\"\n",
    "sex = int(input(\"Enter your sex 1 in female or 2 in male.\"))\n",
    "import random \n",
    "coin = random.randint(1,2)\n",
    "die1 = random.randint(1,6)\n",
    "die2 = random.randint(1,6)\n",
    "\n",
    "if sex == 1:\n",
    "    if coin == 1:\n",
    "        print(\"You get Head\")\n",
    "        input(\"please press enter to roll a die.\")\n",
    "        if die1 >= 4:\n",
    "            print(\"you got\",die1,\"you got spot\")\n",
    "        elif die1 < 4:\n",
    "            print(\"you got\",die1)\n",
    "            input(\" I'm even more generous to females press enter to roll again\")\n",
    "            \n",
    "            if die1 == die2:\n",
    "                print(\"you got\",die2, \"is same with die1 you got spot\")\n",
    "            else:\n",
    "                print(die2,\"is not same with the first roll\", die1,\"you didn't get my sopt.\")\n",
    "        \n",
    "    else:\n",
    "        print(\"I give you a chance,if you roll in 1 or 6 you got my spot\")\n",
    "        input(\"press enter to roll\")\n",
    "        if die1==1 or die1==6:\n",
    "            print(\"you got\",die1,\" you got spot\")\n",
    "        else:\n",
    "            print(\"bye\")\n",
    "else:\n",
    "    if coin == 1:\n",
    "        print(\"You get Head\")\n",
    "        input(\"please press enter to roll a die.\")\n",
    "        if die1 >= 4:\n",
    "            print(\"you got\",die1,\"you got spot\")\n",
    "        elif die1 < 4:\n",
    "            print(\"you got\",die1,\"you didn't get my spot.\")\n",
    "            \n",
    "        \n",
    "    else:\n",
    "        print(\"I give you a chance,if you roll in 1 or 6 you got my spot\")\n",
    "        input(\"press enter to roll\")\n",
    "        if die1==1 or die1==6:\n",
    "            print(\"you got\",die1,\" you got spot\")\n",
    "        else:\n",
    "            print(\"bye\")"
   ]
  },
  {
   "cell_type": "code",
   "execution_count": null,
   "id": "1987080b",
   "metadata": {},
   "outputs": [],
   "source": [
    "#loop\n",
    "name = \"python\"\n",
    "for i in name:\n",
    "    print(\"python\")"
   ]
  },
  {
   "cell_type": "code",
   "execution_count": null,
   "id": "14d7cf69",
   "metadata": {},
   "outputs": [],
   "source": [
    "name = \"python\"\n",
    "for i in name:\n",
    "    print(i)"
   ]
  },
  {
   "cell_type": "code",
   "execution_count": null,
   "id": "95fd4cef",
   "metadata": {},
   "outputs": [],
   "source": [
    "for i in range (1,10,2):\n",
    "    print(i)"
   ]
  },
  {
   "cell_type": "code",
   "execution_count": null,
   "id": "d302568e",
   "metadata": {},
   "outputs": [],
   "source": [
    "\"\"\"\n",
    "Write a program to print the characters in the string ‘your full name’ using for loop.\n",
    "\"\"\"\n",
    "name = \"WEI-TING,WANG\"\n",
    "for i in name:\n",
    "    print(i)"
   ]
  },
  {
   "cell_type": "code",
   "execution_count": null,
   "id": "e1dc671c",
   "metadata": {},
   "outputs": [],
   "source": [
    "\"\"\"\n",
    "Write a program to print the characters in the string ‘your full name’ \n",
    "using for loop but in the same line separating by |. (e.g.: “J | A | Y”)\n",
    "\"\"\"\n",
    "name = \"WEI-TING,WANG\"\n",
    "for i in name:\n",
    "    print(i,end='|')"
   ]
  },
  {
   "cell_type": "code",
   "execution_count": null,
   "id": "239c71f2",
   "metadata": {},
   "outputs": [],
   "source": [
    "\"\"\"\n",
    "Write a program to print the characters in the string ‘your full name’ using for loop 100 times.\n",
    "\"\"\"\n",
    "name = \"WEI-TING,WANG\"\n",
    "for i in name:\n",
    "    print(i*10)"
   ]
  },
  {
   "cell_type": "code",
   "execution_count": null,
   "id": "c3d493fd",
   "metadata": {},
   "outputs": [],
   "source": [
    "for name in \"weiting\":\n",
    "    print(name)"
   ]
  },
  {
   "cell_type": "code",
   "execution_count": null,
   "id": "5b390b66",
   "metadata": {},
   "outputs": [],
   "source": [
    "\"\"\"\n",
    "Write a program that asks the user for their name and how many times to print it. The program should print out the user’s name the specified number of times.\n",
    "\"\"\"\n",
    "user_name = input(\"what's your name?\")\n",
    "user_times = int(input(\"how many times you want to repeat?\"))\n",
    "\n",
    "for i in range (user_times):\n",
    "    print(user_name)"
   ]
  },
  {
   "cell_type": "code",
   "execution_count": null,
   "id": "16b1ba43",
   "metadata": {},
   "outputs": [],
   "source": [
    "wide = int(input(\"enter the wide\"))\n",
    "high = int(input(\"enter the high\"))\n",
    "\n",
    "for i in range(high):\n",
    "    print('*'*wide)"
   ]
  },
  {
   "cell_type": "code",
   "execution_count": null,
   "id": "7da74a97",
   "metadata": {},
   "outputs": [],
   "source": [
    "\"\"\"\n",
    "Write a program that uses a for loop to print the numbers 8, 11, 14, 17, 20, . . . , 83, 86, 89.\n",
    "\"\"\"\n",
    "for i in range(8,90,3):\n",
    "    print(i,end=\",\")"
   ]
  },
  {
   "cell_type": "code",
   "execution_count": null,
   "id": "09211b9b",
   "metadata": {},
   "outputs": [],
   "source": [
    "\"\"\"\n",
    "Write a program that uses a for loop to print the numbers 100, 98, 96, . . . , 4,2\n",
    "\"\"\"\n",
    "for i in range(100,0,-2):\n",
    "    print(i,end = \",\")"
   ]
  },
  {
   "cell_type": "code",
   "execution_count": null,
   "id": "78d17e83",
   "metadata": {},
   "outputs": [],
   "source": [
    "for i in range(1,10):\n",
    "    print(i,\"wei\")"
   ]
  },
  {
   "cell_type": "code",
   "execution_count": null,
   "id": "7bd8021b",
   "metadata": {},
   "outputs": [],
   "source": [
    "for i in range(1,10):\n",
    "    print(i,\"---\",i**2)"
   ]
  },
  {
   "cell_type": "code",
   "execution_count": null,
   "id": "e7a9a4f1",
   "metadata": {},
   "outputs": [],
   "source": [
    "wide = int(input(\"enter the wide you like.\"))\n",
    "high = int(input(\"enter the high you like.\"))\n",
    "for i in \"*\":\n",
    "    print(i*wide)\n",
    "    for j in range(high):\n",
    "        print(\"*     *\") \n",
    "print(\"*\"*wide)"
   ]
  },
  {
   "cell_type": "code",
   "execution_count": null,
   "id": "c6ee8b4d",
   "metadata": {},
   "outputs": [],
   "source": [
    "\"\"\"\n",
    "Use a for loop to print a triangle like the one below. Allow the user to specify how high the triangle should be.\n",
    "\"\"\"\n",
    "high = int(input(\"enter the high you like.\"))\n",
    "for i in range (high):\n",
    "    print(\"*\"*i)"
   ]
  },
  {
   "cell_type": "code",
   "execution_count": null,
   "id": "764daf44",
   "metadata": {},
   "outputs": [],
   "source": [
    "high = int(input(\"enter the high you like.\"))\n",
    "for i in reversed(range(high)):\n",
    "    print(\"*\"*i)"
   ]
  },
  {
   "cell_type": "code",
   "execution_count": null,
   "id": "3d5452b9",
   "metadata": {},
   "outputs": [],
   "source": [
    "for i in range (1,201):\n",
    "    import random\n",
    "    ID = random.choices(range(8000,10000))\n",
    "    print(i,\"=\",ID)"
   ]
  },
  {
   "cell_type": "code",
   "execution_count": null,
   "id": "be51809e",
   "metadata": {},
   "outputs": [],
   "source": [
    "\"\"\"Write a program that uses a for loop to print the numbers 100, 98, 96, . . . , 4,2.\n",
    "Print one sentence\n",
    "Identify whether the item is more or less than the last item.\n",
    "\"\"\"\n",
    "a = []\n",
    "for i in range (100,0,-2):\n",
    "    last_item = num[-1]\n",
    "    if i>2:\n",
    "        print(i,end = \",\")\n",
    "    else:\n",
    "        print(i,end =\".\")\n",
    "print()    \n",
    "print(\"The last number is:\",last_item)"
   ]
  },
  {
   "cell_type": "code",
   "execution_count": 9,
   "id": "ed9da5e5",
   "metadata": {},
   "outputs": [
    {
     "name": "stdout",
     "output_type": "stream",
     "text": [
      "[100, 98, 96, 94, 92, 90, 88, 86, 84, 82, 80, 78, 76, 74, 72, 70, 68, 66, 64, 62, 60, 58, 56, 54, 52, 50, 48, 46, 44, 42, 40, 38, 36, 34, 32, 30, 28, 26, 24, 22, 20, 18, 16, 14, 12, 10, 8, 6, 4, 2]\n",
      "2\n"
     ]
    }
   ],
   "source": [
    "a = []\n",
    "for i in range (100,0,-2):\n",
    "    last_item = num[-1]\n",
    "    b=i\n",
    "    a.append(b)\n",
    "print(a)\n",
    "last_item = a[-1]\n",
    "print(last_item)"
   ]
  },
  {
   "cell_type": "code",
   "execution_count": 1,
   "id": "a8e84d66",
   "metadata": {},
   "outputs": [
    {
     "name": "stdout",
     "output_type": "stream",
     "text": [
      "[100, 98, 96, 94, 92, 90, 88, 86, 84, 82, 80, 78, 76, 74, 72, 70, 68, 66, 64, 62, 60, 58, 56, 54, 52, 50, 48, 46, 44, 42, 40, 38, 36, 34, 32, 30, 28, 26, 24, 22, 20, 18, 16, 14, 12, 10, 8, 6, 4, 2]\n",
      "The last number is: 2\n"
     ]
    }
   ],
   "source": [
    "num = range(100,0,-2)\n",
    "print(list(num))\n",
    "\n",
    "last_item = num[-1] #revrse 順序\n",
    "print(\"The last number is:\",last_item)"
   ]
  },
  {
   "cell_type": "code",
   "execution_count": 12,
   "id": "b43050cb",
   "metadata": {},
   "outputs": [
    {
     "name": "stdout",
     "output_type": "stream",
     "text": [
      "[100, 98, 96, 94, 92, 90, 88, 86, 84, 82, 80, 78, 76, 74, 72, 70, 68, 66, 64, 62, 60, 58, 56, 54, 52, 50, 48, 46, 44, 42, 40, 38, 36, 34, 32, 30, 28, 26, 24, 22, 20, 18, 16, 14, 12, 10, 8, 6, 4, 2]\n"
     ]
    }
   ],
   "source": [
    "a = []\n",
    "for i in range (100,0,-2):\n",
    "    b=i\n",
    "    a.append(b)\n",
    "print(a)"
   ]
  },
  {
   "cell_type": "code",
   "execution_count": 17,
   "id": "e5da7b58",
   "metadata": {},
   "outputs": [
    {
     "data": {
      "text/plain": [
       "100"
      ]
     },
     "execution_count": 17,
     "metadata": {},
     "output_type": "execute_result"
    }
   ],
   "source": [
    "\n"
   ]
  }
 ],
 "metadata": {
  "kernelspec": {
   "display_name": "Python 3 (ipykernel)",
   "language": "python",
   "name": "python3"
  },
  "language_info": {
   "codemirror_mode": {
    "name": "ipython",
    "version": 3
   },
   "file_extension": ".py",
   "mimetype": "text/x-python",
   "name": "python",
   "nbconvert_exporter": "python",
   "pygments_lexer": "ipython3",
   "version": "3.9.12"
  }
 },
 "nbformat": 4,
 "nbformat_minor": 5
}
