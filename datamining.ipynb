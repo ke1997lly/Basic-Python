{
 "cells": [
  {
   "cell_type": "code",
   "execution_count": 1,
   "id": "72ae7700",
   "metadata": {},
   "outputs": [
    {
     "name": "stderr",
     "output_type": "stream",
     "text": [
      "/var/folders/v4/7_1f9fy52j3blb0nrh90rpzr0000gn/T/ipykernel_53745/4269119108.py:2: FutureWarning: The error_bad_lines argument has been deprecated and will be removed in a future version. Use on_bad_lines in the future.\n",
      "\n",
      "\n",
      "  df_2022 = pd.read_csv(\"/Users/wangweiting/Library/CloudStorage/OneDrive-TempleUniversity/HIM5102/Dataset/2022VAERSVAX.csv\",error_bad_lines = False)\n"
     ]
    }
   ],
   "source": [
    "import pandas as pd\n",
    "df_2022 = pd.read_csv(\"/Users/wangweiting/Library/CloudStorage/OneDrive-TempleUniversity/HIM5102/Dataset/2022VAERSVAX.csv\",error_bad_lines = False)"
   ]
  },
  {
   "cell_type": "code",
   "execution_count": 2,
   "id": "5eaa1a48",
   "metadata": {},
   "outputs": [
    {
     "name": "stdout",
     "output_type": "stream",
     "text": [
      "        VAERS_ID   VAX_TYPE VAX_DOSE_SERIES  \\\n",
      "0        1996873       HPV9             UNK   \n",
      "1        1996874    COVID19               1   \n",
      "2        1996875    COVID19               1   \n",
      "3        1996876    COVID19               2   \n",
      "4        1996877    COVID19               1   \n",
      "...          ...        ...             ...   \n",
      "211071   2447619    COVID19               1   \n",
      "211072   2447620      FLUC4               1   \n",
      "211073   2447621  COVID19-2               5   \n",
      "211074   2447622  COVID19-2               5   \n",
      "211075   2447623    COVID19               1   \n",
      "\n",
      "                                             VAX_NAME  \n",
      "0                                    HPV (GARDASIL 9)  \n",
      "1                         COVID19 (COVID19 (JANSSEN))  \n",
      "2                         COVID19 (COVID19 (JANSSEN))  \n",
      "3                 COVID19 (COVID19 (PFIZER-BIONTECH))  \n",
      "4                 COVID19 (COVID19 (PFIZER-BIONTECH))  \n",
      "...                                               ...  \n",
      "211071            COVID19 (COVID19 (PFIZER-BIONTECH))  \n",
      "211072  INFLUENZA (SEASONAL) (FLUCELVAX QUADRIVALENT)  \n",
      "211073           COVID19 (COVID19 (MODERNA BIVALENT))  \n",
      "211074   COVID19 (COVID19 (PFIZER-BIONTECH BIVALENT))  \n",
      "211075            COVID19 (COVID19 (PFIZER-BIONTECH))  \n",
      "\n",
      "[211076 rows x 4 columns]\n"
     ]
    }
   ],
   "source": [
    "#To select rows whose column value equals a scalar, some_value, use ==:\n",
    "#usecols = ['VAERS_ID','VAX_DOSE_SERIES','VAX_NAME']\n",
    "df1_2022 = pd.read_csv(\"2022VAERSVAX.csv\", usecols = ['VAERS_ID','VAX_TYPE','VAX_DOSE_SERIES','VAX_NAME'])\n",
    "print(df1_2022)"
   ]
  },
  {
   "cell_type": "code",
   "execution_count": 3,
   "id": "d2a09bb5",
   "metadata": {},
   "outputs": [
    {
     "name": "stdout",
     "output_type": "stream",
     "text": [
      "        VAERS_ID   VAX_TYPE VAX_DOSE_SERIES  \\\n",
      "1        1996874    COVID19               1   \n",
      "2        1996875    COVID19               1   \n",
      "3        1996876    COVID19               2   \n",
      "4        1996877    COVID19               1   \n",
      "5        1996878    COVID19               3   \n",
      "...          ...        ...             ...   \n",
      "211069   2447617    COVID19               3   \n",
      "211071   2447619    COVID19               1   \n",
      "211073   2447621  COVID19-2               5   \n",
      "211074   2447622  COVID19-2               5   \n",
      "211075   2447623    COVID19               1   \n",
      "\n",
      "                                            VAX_NAME  \n",
      "1                        COVID19 (COVID19 (JANSSEN))  \n",
      "2                        COVID19 (COVID19 (JANSSEN))  \n",
      "3                COVID19 (COVID19 (PFIZER-BIONTECH))  \n",
      "4                COVID19 (COVID19 (PFIZER-BIONTECH))  \n",
      "5                COVID19 (COVID19 (PFIZER-BIONTECH))  \n",
      "...                                              ...  \n",
      "211069           COVID19 (COVID19 (PFIZER-BIONTECH))  \n",
      "211071           COVID19 (COVID19 (PFIZER-BIONTECH))  \n",
      "211073          COVID19 (COVID19 (MODERNA BIVALENT))  \n",
      "211074  COVID19 (COVID19 (PFIZER-BIONTECH BIVALENT))  \n",
      "211075           COVID19 (COVID19 (PFIZER-BIONTECH))  \n",
      "\n",
      "[180649 rows x 4 columns]\n"
     ]
    }
   ],
   "source": [
    "df2_2022 = df1_2022.loc[df_2022['VAX_TYPE'].isin(['COVID19','COVID19-2'])]\n",
    "print(df2_2022)"
   ]
  },
  {
   "cell_type": "code",
   "execution_count": 4,
   "id": "970ec4da",
   "metadata": {},
   "outputs": [
    {
     "name": "stdout",
     "output_type": "stream",
     "text": [
      "        VAERS_ID VAX_DOSE_SERIES                                      VAX_NAME\n",
      "1        1996874               1                   COVID19 (COVID19 (JANSSEN))\n",
      "2        1996875               1                   COVID19 (COVID19 (JANSSEN))\n",
      "3        1996876               2           COVID19 (COVID19 (PFIZER-BIONTECH))\n",
      "4        1996877               1           COVID19 (COVID19 (PFIZER-BIONTECH))\n",
      "5        1996878               3           COVID19 (COVID19 (PFIZER-BIONTECH))\n",
      "...          ...             ...                                           ...\n",
      "211069   2447617               3           COVID19 (COVID19 (PFIZER-BIONTECH))\n",
      "211071   2447619               1           COVID19 (COVID19 (PFIZER-BIONTECH))\n",
      "211073   2447621               5          COVID19 (COVID19 (MODERNA BIVALENT))\n",
      "211074   2447622               5  COVID19 (COVID19 (PFIZER-BIONTECH BIVALENT))\n",
      "211075   2447623               1           COVID19 (COVID19 (PFIZER-BIONTECH))\n",
      "\n",
      "[180649 rows x 3 columns]\n"
     ]
    }
   ],
   "source": [
    "df3_2022 = df2_2022.drop(columns=['VAX_TYPE'])\n",
    "print(df3_2022)"
   ]
  },
  {
   "cell_type": "code",
   "execution_count": 5,
   "id": "0d9869dc",
   "metadata": {},
   "outputs": [
    {
     "name": "stderr",
     "output_type": "stream",
     "text": [
      "/var/folders/v4/7_1f9fy52j3blb0nrh90rpzr0000gn/T/ipykernel_53745/1896523406.py:1: FutureWarning: The error_bad_lines argument has been deprecated and will be removed in a future version. Use on_bad_lines in the future.\n",
      "\n",
      "\n",
      "  df_2021 = pd.read_csv(\"/Users/wangweiting/Library/CloudStorage/OneDrive-TempleUniversity/HIM5102/Dataset/2021VAERSVAX.csv\",error_bad_lines = False)\n"
     ]
    }
   ],
   "source": [
    "df_2021 = pd.read_csv(\"/Users/wangweiting/Library/CloudStorage/OneDrive-TempleUniversity/HIM5102/Dataset/2021VAERSVAX.csv\",error_bad_lines = False)"
   ]
  },
  {
   "cell_type": "code",
   "execution_count": 6,
   "id": "d38d7ae3",
   "metadata": {},
   "outputs": [
    {
     "name": "stdout",
     "output_type": "stream",
     "text": [
      "        VAERS_ID VAX_TYPE VAX_DOSE_SERIES                             VAX_NAME\n",
      "0         910642  COVID19               1  COVID19 (COVID19 (PFIZER-BIONTECH))\n",
      "1         916600  COVID19               1          COVID19 (COVID19 (MODERNA))\n",
      "2         916601  COVID19               1          COVID19 (COVID19 (MODERNA))\n",
      "3         916602  COVID19               1  COVID19 (COVID19 (PFIZER-BIONTECH))\n",
      "4         916603  COVID19             UNK          COVID19 (COVID19 (MODERNA))\n",
      "...          ...      ...             ...                                  ...\n",
      "780032   2427491  COVID19             UNK  COVID19 (COVID19 (PFIZER-BIONTECH))\n",
      "780033   2427492  COVID19               2  COVID19 (COVID19 (PFIZER-BIONTECH))\n",
      "780034   2436432  COVID19             UNK  COVID19 (COVID19 (PFIZER-BIONTECH))\n",
      "780035   2439694  COVID19               1  COVID19 (COVID19 (PFIZER-BIONTECH))\n",
      "780036   2442719  COVID19               2  COVID19 (COVID19 (PFIZER-BIONTECH))\n",
      "\n",
      "[780037 rows x 4 columns]\n"
     ]
    }
   ],
   "source": [
    "df1_2021 = pd.read_csv(\"2021VAERSVAX.csv\", usecols = ['VAERS_ID','VAX_TYPE','VAX_DOSE_SERIES','VAX_NAME'])\n",
    "print(df1_2021)"
   ]
  },
  {
   "cell_type": "code",
   "execution_count": 7,
   "id": "cc08f885",
   "metadata": {},
   "outputs": [
    {
     "name": "stdout",
     "output_type": "stream",
     "text": [
      "        VAERS_ID VAX_TYPE VAX_DOSE_SERIES                             VAX_NAME\n",
      "0         910642  COVID19               1  COVID19 (COVID19 (PFIZER-BIONTECH))\n",
      "1         916600  COVID19               1          COVID19 (COVID19 (MODERNA))\n",
      "2         916601  COVID19               1          COVID19 (COVID19 (MODERNA))\n",
      "3         916602  COVID19               1  COVID19 (COVID19 (PFIZER-BIONTECH))\n",
      "4         916603  COVID19             UNK          COVID19 (COVID19 (MODERNA))\n",
      "...          ...      ...             ...                                  ...\n",
      "780032   2427491  COVID19             UNK  COVID19 (COVID19 (PFIZER-BIONTECH))\n",
      "780033   2427492  COVID19               2  COVID19 (COVID19 (PFIZER-BIONTECH))\n",
      "780034   2436432  COVID19             UNK  COVID19 (COVID19 (PFIZER-BIONTECH))\n",
      "780035   2439694  COVID19               1  COVID19 (COVID19 (PFIZER-BIONTECH))\n",
      "780036   2442719  COVID19               2  COVID19 (COVID19 (PFIZER-BIONTECH))\n",
      "\n",
      "[725087 rows x 4 columns]\n"
     ]
    }
   ],
   "source": [
    "df2_2021 = df1_2021.loc[df_2021['VAX_TYPE'] == 'COVID19']\n",
    "print(df2_2021)"
   ]
  },
  {
   "cell_type": "code",
   "execution_count": 8,
   "id": "61fbaa54",
   "metadata": {},
   "outputs": [
    {
     "name": "stdout",
     "output_type": "stream",
     "text": [
      "        VAERS_ID VAX_DOSE_SERIES                             VAX_NAME\n",
      "0         910642               1  COVID19 (COVID19 (PFIZER-BIONTECH))\n",
      "1         916600               1          COVID19 (COVID19 (MODERNA))\n",
      "2         916601               1          COVID19 (COVID19 (MODERNA))\n",
      "3         916602               1  COVID19 (COVID19 (PFIZER-BIONTECH))\n",
      "4         916603             UNK          COVID19 (COVID19 (MODERNA))\n",
      "...          ...             ...                                  ...\n",
      "780032   2427491             UNK  COVID19 (COVID19 (PFIZER-BIONTECH))\n",
      "780033   2427492               2  COVID19 (COVID19 (PFIZER-BIONTECH))\n",
      "780034   2436432             UNK  COVID19 (COVID19 (PFIZER-BIONTECH))\n",
      "780035   2439694               1  COVID19 (COVID19 (PFIZER-BIONTECH))\n",
      "780036   2442719               2  COVID19 (COVID19 (PFIZER-BIONTECH))\n",
      "\n",
      "[725087 rows x 3 columns]\n"
     ]
    }
   ],
   "source": [
    "df3_2021 = df2_2021.drop(columns=['VAX_TYPE'])\n",
    "print(df3_2021)"
   ]
  },
  {
   "cell_type": "code",
   "execution_count": 9,
   "id": "1cd67935",
   "metadata": {},
   "outputs": [
    {
     "name": "stderr",
     "output_type": "stream",
     "text": [
      "/var/folders/v4/7_1f9fy52j3blb0nrh90rpzr0000gn/T/ipykernel_53745/437550145.py:1: FutureWarning: The error_bad_lines argument has been deprecated and will be removed in a future version. Use on_bad_lines in the future.\n",
      "\n",
      "\n",
      "  df_2020 = pd.read_csv(\"/Users/wangweiting/Library/CloudStorage/OneDrive-TempleUniversity/HIM5102/Dataset/2020VAERSVAX.csv\",error_bad_lines = False)\n"
     ]
    }
   ],
   "source": [
    "df_2020 = pd.read_csv(\"/Users/wangweiting/Library/CloudStorage/OneDrive-TempleUniversity/HIM5102/Dataset/2020VAERSVAX.csv\",error_bad_lines = False)"
   ]
  },
  {
   "cell_type": "code",
   "execution_count": 10,
   "id": "7408e014",
   "metadata": {},
   "outputs": [
    {
     "name": "stdout",
     "output_type": "stream",
     "text": [
      "       VAERS_ID VAX_TYPE VAX_DOSE_SERIES                             VAX_NAME\n",
      "0        855017   VARZOS               2                    ZOSTER (SHINGRIX)\n",
      "1        855018      UNK               1        VACCINE NOT SPECIFIED (OTHER)\n",
      "2        855019   VARZOS             UNK                    ZOSTER (SHINGRIX)\n",
      "3        855020   VARZOS             UNK                    ZOSTER (SHINGRIX)\n",
      "4        855021   VARZOS               2                    ZOSTER (SHINGRIX)\n",
      "...         ...      ...             ...                                  ...\n",
      "59637    918503  COVID19               1          COVID19 (COVID19 (MODERNA))\n",
      "59638    918512      MMR               1   MEASLES + MUMPS + RUBELLA (MMR II)\n",
      "59639    918512    PNC13               4                   PNEUMO (PREVNAR13)\n",
      "59640    918512   VARCEL               1                  VARICELLA (VARIVAX)\n",
      "59641    918561  COVID19               1  COVID19 (COVID19 (PFIZER-BIONTECH))\n",
      "\n",
      "[59642 rows x 4 columns]\n"
     ]
    }
   ],
   "source": [
    "df1_2020 = pd.read_csv(\"2020VAERSVAX.csv\", usecols = ['VAERS_ID','VAX_TYPE','VAX_DOSE_SERIES','VAX_NAME'])\n",
    "print(df1_2020)"
   ]
  },
  {
   "cell_type": "code",
   "execution_count": 11,
   "id": "e3f01132",
   "metadata": {},
   "outputs": [
    {
     "name": "stdout",
     "output_type": "stream",
     "text": [
      "       VAERS_ID VAX_TYPE VAX_DOSE_SERIES                             VAX_NAME\n",
      "46487    902418  COVID19               1  COVID19 (COVID19 (PFIZER-BIONTECH))\n",
      "46506    902440  COVID19               1  COVID19 (COVID19 (PFIZER-BIONTECH))\n",
      "46513    902446  COVID19               1  COVID19 (COVID19 (PFIZER-BIONTECH))\n",
      "46532    902464  COVID19             UNK  COVID19 (COVID19 (PFIZER-BIONTECH))\n",
      "46533    902465  COVID19               1  COVID19 (COVID19 (PFIZER-BIONTECH))\n",
      "...         ...      ...             ...                                  ...\n",
      "59634    918440  COVID19             UNK          COVID19 (COVID19 (UNKNOWN))\n",
      "59635    918441  COVID19               1          COVID19 (COVID19 (MODERNA))\n",
      "59636    918442  COVID19             UNK          COVID19 (COVID19 (UNKNOWN))\n",
      "59637    918503  COVID19               1          COVID19 (COVID19 (MODERNA))\n",
      "59641    918561  COVID19               1  COVID19 (COVID19 (PFIZER-BIONTECH))\n",
      "\n",
      "[10399 rows x 4 columns]\n"
     ]
    }
   ],
   "source": [
    "df2_2020 = df1_2020.loc[df_2020['VAX_TYPE'] == 'COVID19']\n",
    "print(df2_2020)"
   ]
  },
  {
   "cell_type": "code",
   "execution_count": 12,
   "id": "a7ee1407",
   "metadata": {},
   "outputs": [
    {
     "name": "stdout",
     "output_type": "stream",
     "text": [
      "       VAERS_ID VAX_DOSE_SERIES                             VAX_NAME\n",
      "46487    902418               1  COVID19 (COVID19 (PFIZER-BIONTECH))\n",
      "46506    902440               1  COVID19 (COVID19 (PFIZER-BIONTECH))\n",
      "46513    902446               1  COVID19 (COVID19 (PFIZER-BIONTECH))\n",
      "46532    902464             UNK  COVID19 (COVID19 (PFIZER-BIONTECH))\n",
      "46533    902465               1  COVID19 (COVID19 (PFIZER-BIONTECH))\n",
      "...         ...             ...                                  ...\n",
      "59634    918440             UNK          COVID19 (COVID19 (UNKNOWN))\n",
      "59635    918441               1          COVID19 (COVID19 (MODERNA))\n",
      "59636    918442             UNK          COVID19 (COVID19 (UNKNOWN))\n",
      "59637    918503               1          COVID19 (COVID19 (MODERNA))\n",
      "59641    918561               1  COVID19 (COVID19 (PFIZER-BIONTECH))\n",
      "\n",
      "[10399 rows x 3 columns]\n"
     ]
    }
   ],
   "source": [
    "df3_2020 = df2_2020.drop(columns=['VAX_TYPE'])\n",
    "print(df3_2020)"
   ]
  },
  {
   "cell_type": "code",
   "execution_count": 13,
   "id": "e2a45b4e",
   "metadata": {},
   "outputs": [
    {
     "name": "stdout",
     "output_type": "stream",
     "text": [
      "        VAERS_ID VAX_DOSE_SERIES                                      VAX_NAME\n",
      "46487     902418               1           COVID19 (COVID19 (PFIZER-BIONTECH))\n",
      "46506     902440               1           COVID19 (COVID19 (PFIZER-BIONTECH))\n",
      "46513     902446               1           COVID19 (COVID19 (PFIZER-BIONTECH))\n",
      "46532     902464             UNK           COVID19 (COVID19 (PFIZER-BIONTECH))\n",
      "46533     902465               1           COVID19 (COVID19 (PFIZER-BIONTECH))\n",
      "...          ...             ...                                           ...\n",
      "211069   2447617               3           COVID19 (COVID19 (PFIZER-BIONTECH))\n",
      "211071   2447619               1           COVID19 (COVID19 (PFIZER-BIONTECH))\n",
      "211073   2447621               5          COVID19 (COVID19 (MODERNA BIVALENT))\n",
      "211074   2447622               5  COVID19 (COVID19 (PFIZER-BIONTECH BIVALENT))\n",
      "211075   2447623               1           COVID19 (COVID19 (PFIZER-BIONTECH))\n",
      "\n",
      "[916135 rows x 3 columns]\n"
     ]
    }
   ],
   "source": [
    "frames = [df3_2020, df3_2021, df3_2022]\n",
    "result = pd.concat(frames)\n",
    "print(result)\n",
    "result.to_csv(\"VAERSVAX2020_2022.csv\", encoding='utf-8', index=False)"
   ]
  },
  {
   "cell_type": "code",
   "execution_count": null,
   "id": "a6f7dced",
   "metadata": {},
   "outputs": [],
   "source": []
  }
 ],
 "metadata": {
  "kernelspec": {
   "display_name": "Python 3 (ipykernel)",
   "language": "python",
   "name": "python3"
  },
  "language_info": {
   "codemirror_mode": {
    "name": "ipython",
    "version": 3
   },
   "file_extension": ".py",
   "mimetype": "text/x-python",
   "name": "python",
   "nbconvert_exporter": "python",
   "pygments_lexer": "ipython3",
   "version": "3.9.12"
  }
 },
 "nbformat": 4,
 "nbformat_minor": 5
}
